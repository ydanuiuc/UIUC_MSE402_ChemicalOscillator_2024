{
 "cells": [
  {
   "cell_type": "code",
   "execution_count": null,
   "metadata": {},
   "outputs": [],
   "source": [
    "import numpy as np\n",
    "from scipy.integrate import solve_ivp\n",
    "import matplotlib.pyplot as plt"
   ]
  },
  {
   "cell_type": "code",
   "execution_count": null,
   "metadata": {},
   "outputs": [],
   "source": [
    "# helper function for plotting\n",
    "# you may use it in later steps to visualize your ODE solutions or write your own\n",
    "from matplotlib import rcParams\n",
    "def PlotSolution(x, y, filename='untitledplot.jpg', x_label='', y_label='', title=''):\n",
    "    plt.figure(figsize=(8,6), dpi=100)\n",
    "    #plt.rcParams['font.family'] = 'Times New Roman'\n",
    "    plt.rcParams['font.size'] = 15\n",
    "    plt.plot(x,y, linewidth=2)\n",
    "    plt.xlabel(x_label)\n",
    "    plt.ylabel(y_label)\n",
    "    plt.title(title)\n",
    "    plt.savefig(filename)"
   ]
  },
  {
   "cell_type": "code",
   "execution_count": null,
   "metadata": {},
   "outputs": [],
   "source": [
    "# BZ differential equations, to be used as input to odeint solver\n",
    "# Step 3: finish implementing the function following the guidelines\n",
    "def BZeqns(tau, y):\n",
    "    # y is a vector containing [x, z].\n",
    "    # tau is an intependent variable, but in this case it's not actually involved in the equations.\n",
    "    \n",
    "    # In the following few lines, get x and z from the input vector y.\n",
    "    \n",
    "    \n",
    "    # In the following few lines, define f, eps and q.\n",
    "    # Experimentally, we can change epsilon and q by changing the initial concentrations of our chemicals.\n",
    "    # Modify here when necessary, for example, in steps 7 and 8.\n",
    "    f = 2/3\n",
    "    eps = 0.2\n",
    "    q = 8e-4\n",
    "    \n",
    "    # In the following few lines, write equations for dxdtau and dzdtau.\n",
    "    \n",
    "    \n",
    "    # After that, put dxtau and dztau into the vector dydtau for return.\n",
    "    \n",
    "    \n",
    "    return dydtau"
   ]
  },
  {
   "cell_type": "code",
   "execution_count": null,
   "metadata": {},
   "outputs": [],
   "source": [
    "# Step 4.1: test your BZeqns here and make sure it works as expected before you continue.\n",
    "# With initial concentrations x(0)=0.01 and z(0)=0.01, \n",
    "# and example parameters f=2/3, eps=0.2 and q=8e-4,\n",
    "# at time points specified by t_eval=[0,1,2],\n",
    "# you should be getting Y values close to the following:\n",
    "# [[0.01       0.26695827 0.65225067]\n",
    "#  [0.01       0.06445692 0.40030476]]\n",
    "\n"
   ]
  },
  {
   "cell_type": "code",
   "execution_count": null,
   "metadata": {
    "scrolled": true
   },
   "outputs": [],
   "source": [
    "# Step 4.2: after checking, solve the BZ equations from tau=0 to tau=30\n",
    "\n"
   ]
  },
  {
   "cell_type": "code",
   "execution_count": null,
   "metadata": {},
   "outputs": [],
   "source": [
    "# Step 5: plot the solutions from the previous step\n",
    "# (a) z versus x\n",
    "# (b) x versus tau\n",
    "# (c) z versus tau\n",
    "\n"
   ]
  },
  {
   "cell_type": "code",
   "execution_count": null,
   "metadata": {},
   "outputs": [],
   "source": [
    "# Step 6: try some different initial values for x(0) and z(0) and make some plots,\n",
    "# as you did in steps 4.2 and step 5. Has your conclusion changed?\n",
    "\n"
   ]
  },
  {
   "cell_type": "markdown",
   "metadata": {},
   "source": [
    "For steps 7-10, you'll need to go back to function BZeqns and change f, eps and q. Always rerun that cell by e.g. hitting ctrl+enter after the changes to update function BZeqns. Then do your calculations, make plots and observe oscillations. Write your code to complete the rest of the steps."
   ]
  },
  {
   "cell_type": "code",
   "execution_count": null,
   "metadata": {},
   "outputs": [],
   "source": []
  }
 ],
 "metadata": {
  "kernelspec": {
   "display_name": "Python 3 (ipykernel)",
   "language": "python",
   "name": "python3"
  },
  "language_info": {
   "codemirror_mode": {
    "name": "ipython",
    "version": 3
   },
   "file_extension": ".py",
   "mimetype": "text/x-python",
   "name": "python",
   "nbconvert_exporter": "python",
   "pygments_lexer": "ipython3",
   "version": "3.11.4"
  }
 },
 "nbformat": 4,
 "nbformat_minor": 2
}
